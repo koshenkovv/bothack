{
 "cells": [
  {
   "cell_type": "code",
   "execution_count": 20,
   "id": "e32678a2-7ace-4295-9d22-e772307c5fef",
   "metadata": {},
   "outputs": [
    {
     "name": "stdout",
     "output_type": "stream",
     "text": [
      "Данные успешно сохранены в базе данных: fin_schedule.db\n"
     ]
    }
   ],
   "source": [
    "import pandas as pd\n",
    "import sqlite3\n",
    "\n",
    "# Функция обработки расписания\n",
    "def process_schedule(df):\n",
    "    # Удаляем лишние строки и задаём названия столбцов\n",
    "    df_cleaned = df.iloc[2:].reset_index(drop=True)\n",
    "    group_names = df.iloc[1, 2:8].tolist()  # Имена групп из строки 3 (индекс строки 1 с нуля)\n",
    "    columns = ['Day', 'Time'] + group_names\n",
    "    df_cleaned.columns = columns\n",
    "    \n",
    "    # Заполняем пустые ячейки в столбце Day\n",
    "    df_cleaned['Day'] = df_cleaned['Day'].fillna(method='ffill')\n",
    "    \n",
    "    # Объединяем строки с одинаковым временем и группой\n",
    "    grouped = df_cleaned.groupby(['Day', 'Time']).agg({\n",
    "        group: lambda x: ' / '.join(x.dropna().astype(str)) for group in group_names\n",
    "    }).reset_index()\n",
    "    \n",
    "    return grouped, group_names\n",
    "\n",
    "# Основной код\n",
    "def main():\n",
    "    # Путь к Excel файлу\n",
    "    file_path = 'rasp.xlsx'  # Укажите путь к вашему файлу\n",
    "    \n",
    "    # Загружаем данные\n",
    "    data = pd.ExcelFile(file_path)\n",
    "    sheet_name = 'Table 1'  # Укажите нужный лист\n",
    "    df = data.parse(sheet_name)\n",
    "    \n",
    "    # Обрабатываем данные\n",
    "    processed_data, group_names = process_schedule(df)\n",
    "    \n",
    "    # Путь к базе данных SQLite\n",
    "    db_path = 'fin_schedule.db'\n",
    "    conn = sqlite3.connect(db_path)\n",
    "    \n",
    "    # Удаляем существующую таблицу, если она есть\n",
    "    conn.execute(\"DROP TABLE IF EXISTS schedule;\")\n",
    "    \n",
    "    # Создаём таблицу\n",
    "    table_creation_query = \"\"\"\n",
    "    CREATE TABLE schedule (\n",
    "        id INTEGER PRIMARY KEY AUTOINCREMENT,\n",
    "        day_of_week TEXT,\n",
    "        time_period TEXT,\n",
    "        group_name TEXT,\n",
    "        schedule TEXT\n",
    "    );\n",
    "    \"\"\"\n",
    "    conn.execute(table_creation_query)\n",
    "    \n",
    "    # Вставляем данные\n",
    "    insert_query = \"\"\"\n",
    "    INSERT INTO schedule (day_of_week, time_period, group_name, schedule)\n",
    "    VALUES (?, ?, ?, ?);\n",
    "    \"\"\"\n",
    "    \n",
    "    for _, row in processed_data.iterrows():\n",
    "        for group_name in group_names:\n",
    "            if row[group_name]:  # Пропускаем пустые группы\n",
    "                conn.execute(insert_query, (row['Day'], row['Time'], group_name, row[group_name]))\n",
    "    \n",
    "    conn.commit()\n",
    "    conn.close()\n",
    "    print(f\"Данные успешно сохранены в базе данных: {db_path}\")\n",
    "\n",
    "# Запуск скрипта\n",
    "if __name__ == '__main__':\n",
    "    main()\n"
   ]
  }
 ],
 "metadata": {
  "kernelspec": {
   "display_name": "Python 3 (ipykernel)",
   "language": "python",
   "name": "python3"
  },
  "language_info": {
   "codemirror_mode": {
    "name": "ipython",
    "version": 3
   },
   "file_extension": ".py",
   "mimetype": "text/x-python",
   "name": "python",
   "nbconvert_exporter": "python",
   "pygments_lexer": "ipython3",
   "version": "3.11.7"
  }
 },
 "nbformat": 4,
 "nbformat_minor": 5
}
